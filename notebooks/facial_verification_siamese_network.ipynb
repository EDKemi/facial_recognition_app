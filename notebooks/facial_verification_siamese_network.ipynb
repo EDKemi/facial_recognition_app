{
 "cells": [
  {
   "cell_type": "code",
   "execution_count": 2,
   "id": "0bc5f49d",
   "metadata": {},
   "outputs": [],
   "source": [
    "# Import standard dependencies\n",
    "import cv2\n",
    "import os\n",
    "import random\n",
    "import numpy as np\n",
    "import matplotlib.pyplot as plt"
   ]
  },
  {
   "cell_type": "code",
   "execution_count": 3,
   "id": "204c24a5",
   "metadata": {},
   "outputs": [],
   "source": [
    "# This model will use tensorflows functional API which is better for hard core deep learning models as \n",
    "# opposed to TF's sequential API\n",
    "# The model we are building is called a siamese neural network, which allows us to do one shot classification.\n",
    "# https://www.cs.cmu.edu/~rsalakhu/papers/oneshot1.pdf\n",
    "\n",
    "# Import standard tensorflow dependencies - Funtional API\n",
    "from tensorflow.keras.models import Model\n",
    "from tensorflow.keras.layers import Layer, Conv2D, Dense, MaxPooling2D, Input, Flatten\n",
    "import tensorflow as tf"
   ]
  },
  {
   "cell_type": "code",
   "execution_count": 4,
   "id": "8d828a24",
   "metadata": {},
   "outputs": [],
   "source": [
    "# Only use if training o a GPU based machine. This notebook will be trained using google co lab\n",
    "# Avoid out of memory errors by setting GPU Memory Consumption Growth\n",
    "gpus = tf.config.experimental.list_physical_devices('GPU')\n",
    "for gpu in gpus:\n",
    "    tf.config.experimental.set_memory_growth(gpu, True)"
   ]
  },
  {
   "cell_type": "code",
   "execution_count": 4,
   "id": "e295fda5",
   "metadata": {},
   "outputs": [
    {
     "data": {
      "text/plain": [
       "[]"
      ]
     },
     "execution_count": 4,
     "metadata": {},
     "output_type": "execute_result"
    }
   ],
   "source": [
    "gpus"
   ]
  },
  {
   "cell_type": "code",
   "execution_count": 5,
   "id": "811b8264",
   "metadata": {},
   "outputs": [],
   "source": [
    "# Setup paths\n",
    "POS_PATH = os.path.join('../raw_data', 'positve')\n",
    "NEG_PATH = os.path.join('../raw_data', 'negative')\n",
    "ANC_PATH = os.path.join('../raw_data', 'anchor')"
   ]
  },
  {
   "cell_type": "code",
   "execution_count": 11,
   "id": "ee98d9ee",
   "metadata": {},
   "outputs": [],
   "source": [
    "DATA_PATH = os.path.join('../raw_data', 'data')"
   ]
  },
  {
   "cell_type": "code",
   "execution_count": null,
   "id": "6b6cf5ab",
   "metadata": {
    "scrolled": true
   },
   "outputs": [],
   "source": [
    "# Make directories\n",
    "os.mkdir(POS_PATH)\n",
    "os.mkdir(NEG_PATH)\n",
    "os.mkdir(ANC_PATH)"
   ]
  },
  {
   "cell_type": "code",
   "execution_count": null,
   "id": "f54841e5",
   "metadata": {},
   "outputs": [],
   "source": [
    "os.mkdir(DATA_PATH)"
   ]
  },
  {
   "cell_type": "code",
   "execution_count": null,
   "id": "2ab550fb",
   "metadata": {},
   "outputs": [],
   "source": [
    "# Downloaded images as zipped tar file from http://vis-www.cs.umass.edu/lfw/\n",
    "# Command below unzips tar file and saves in data directory\n",
    "!tar -xf ../raw_data/lfw.tgz -C ../raw_data/data"
   ]
  },
  {
   "cell_type": "code",
   "execution_count": null,
   "id": "16c4dea4",
   "metadata": {},
   "outputs": [],
   "source": [
    "# Move LFW images to the following repository ../raw_data/negative\n",
    "\n",
    "for directory in os.listdir('../raw_data/data/lfw'):\n",
    "    for file in os.listdir(f'../raw_data/data/lfw/{directory}'):\n",
    "        EX_PATH = os.path.join('../raw_data/data/lfw', directory, file)\n",
    "        NEW_PATH = os.path.join(NEG_PATH, file)\n",
    "        os.replace(EX_PATH, NEW_PATH)"
   ]
  },
  {
   "cell_type": "code",
   "execution_count": 6,
   "id": "536cda98",
   "metadata": {},
   "outputs": [],
   "source": [
    "import uuid"
   ]
  },
  {
   "cell_type": "code",
   "execution_count": 7,
   "id": "ed63c94c",
   "metadata": {},
   "outputs": [
    {
     "data": {
      "text/plain": [
       "-1"
      ]
     },
     "execution_count": 7,
     "metadata": {},
     "output_type": "execute_result"
    }
   ],
   "source": [
    "# Establish connection to webcam\n",
    "\n",
    "cap = cv2.VideoCapture(0)\n",
    "while cap.isOpened():\n",
    "    ret, frame = cap.read()\n",
    "    \n",
    "    # cut down frame to 250x250px\n",
    "    frame = frame[270:270+250,650:650+250, :]\n",
    "    \n",
    "    # Collect anchors\n",
    "    if cv2.waitKey(1) & 0XFF == ord('a'):\n",
    "        imgname = os.path.join(ANC_PATH, '{}.jpg'.format(uuid.uuid1()))\n",
    "        cv2.imwrite(imgname, frame)\n",
    "        #cv2.waitKey(1)\n",
    "    \n",
    "    # Collect positives\n",
    "    if cv2.waitKey(1) & 0XFF == ord('p'):\n",
    "        imgname = os.path.join(POS_PATH, '{}.jpg'.format(uuid.uuid1()))\n",
    "        cv2.imwrite(imgname, frame)\n",
    "    \n",
    "    # show image back to screen\n",
    "    cv2.imshow('Image Collection', frame)\n",
    "    \n",
    "    if cv2.waitKey(1) & 0XFF == ord('q'):\n",
    "        break\n",
    "\n",
    "# Release the webcam\n",
    "cap.release()\n",
    "\n",
    "# Close the image show frame\n",
    "cv2.destroyAllWindows()\n",
    "cv2.waitKey(1)"
   ]
  },
  {
   "cell_type": "code",
   "execution_count": 8,
   "id": "965b2077",
   "metadata": {},
   "outputs": [
    {
     "data": {
      "text/plain": [
       "(250, 250, 3)"
      ]
     },
     "execution_count": 8,
     "metadata": {},
     "output_type": "execute_result"
    }
   ],
   "source": [
    "frame.shape\n"
   ]
  },
  {
   "cell_type": "code",
   "execution_count": null,
   "id": "d7ebde06",
   "metadata": {},
   "outputs": [],
   "source": [
    "#plt.imshow(frame[270:270+250,650:650+250, :])"
   ]
  },
  {
   "cell_type": "code",
   "execution_count": null,
   "id": "bb2e3604",
   "metadata": {},
   "outputs": [],
   "source": [
    "#plt.imshow(frame[120:120+250,200:200+250, :])"
   ]
  },
  {
   "cell_type": "code",
   "execution_count": 14,
   "id": "8a8cb253",
   "metadata": {},
   "outputs": [],
   "source": [
    "anchor = tf.data.Dataset.list_files(ANC_PATH+'/*.jpg').take(300)\n",
    "positive = tf.data.Dataset.list_files(POS_PATH+'/*.jpg').take(300)\n",
    "negative = tf.data.Dataset.list_files(NEG_PATH+'/*.jpg').take(300)"
   ]
  },
  {
   "cell_type": "code",
   "execution_count": 36,
   "id": "9d27d48a",
   "metadata": {},
   "outputs": [
    {
     "data": {
      "text/plain": [
       "tensorflow.python.data.ops.dataset_ops.TakeDataset"
      ]
     },
     "execution_count": 36,
     "metadata": {},
     "output_type": "execute_result"
    }
   ],
   "source": [
    "anchor."
   ]
  },
  {
   "cell_type": "code",
   "execution_count": 15,
   "id": "c03ccfe3",
   "metadata": {},
   "outputs": [],
   "source": [
    "dir_test = anchor.as_numpy_iterator()"
   ]
  },
  {
   "cell_type": "code",
   "execution_count": 19,
   "id": "792ba3a4",
   "metadata": {},
   "outputs": [
    {
     "data": {
      "text/plain": [
       "b'../raw_data/anchor/e564489a-cbe6-11ec-95bd-acde48001122.jpg'"
      ]
     },
     "execution_count": 19,
     "metadata": {},
     "output_type": "execute_result"
    }
   ],
   "source": [
    "dir_test.next()"
   ]
  },
  {
   "cell_type": "markdown",
   "id": "9387605e",
   "metadata": {},
   "source": [
    "Preprocessing - scale and resize"
   ]
  },
  {
   "cell_type": "code",
   "execution_count": 22,
   "id": "0084a0c1",
   "metadata": {},
   "outputs": [],
   "source": [
    "def preprocess(file_path):\n",
    "    byte_img = tf.io.read_file(file_path)\n",
    "    img = tf.io.decode_jpeg(byte_img)\n",
    "    img = tf.image.resize(img, (100,100))\n",
    "    img = img / 255.0\n",
    "    return img"
   ]
  },
  {
   "cell_type": "code",
   "execution_count": 24,
   "id": "f26f908d",
   "metadata": {},
   "outputs": [],
   "source": [
    "dir_test_img = preprocess('../raw_data/anchor/e564489a-cbe6-11ec-95bd-acde48001122.jpg')"
   ]
  },
  {
   "cell_type": "code",
   "execution_count": 27,
   "id": "4cbf6744",
   "metadata": {},
   "outputs": [
    {
     "data": {
      "text/plain": [
       "0.005882353"
      ]
     },
     "execution_count": 27,
     "metadata": {},
     "output_type": "execute_result"
    }
   ],
   "source": [
    "dir_test_img.numpy().min()"
   ]
  },
  {
   "cell_type": "code",
   "execution_count": null,
   "id": "30ea0378",
   "metadata": {},
   "outputs": [],
   "source": [
    "dir_test_img.numpy().min()"
   ]
  },
  {
   "cell_type": "code",
   "execution_count": 25,
   "id": "c9908e7b",
   "metadata": {},
   "outputs": [
    {
     "data": {
      "text/plain": [
       "<matplotlib.image.AxesImage at 0x16126c790>"
      ]
     },
     "execution_count": 25,
     "metadata": {},
     "output_type": "execute_result"
    },
    {
     "data": {
      "image/png": "[encoded data removed]",
      "text/plain": [
       "<Figure size 432x288 with 1 Axes>"
      ]
     },
     "metadata": {
      "needs_background": "light"
     },
     "output_type": "display_data"
    }
   ],
   "source": [
    "plt.imshow(dir_test_img)"
   ]
  },
  {
   "cell_type": "code",
   "execution_count": null,
   "id": "418e91c4",
   "metadata": {},
   "outputs": [],
   "source": [
    "dataset.map(preprocess)"
   ]
  },
  {
   "cell_type": "markdown",
   "id": "1878e634",
   "metadata": {},
   "source": [
    "create labeled images"
   ]
  },
  {
   "cell_type": "code",
   "execution_count": null,
   "id": "98b4f6de",
   "metadata": {},
   "outputs": [],
   "source": [
    "# (anchor, positive) => 1,1,1,1,1\n",
    "# (anchor, negative) => 0,0,0,0,0"
   ]
  },
  {
   "cell_type": "code",
   "execution_count": 37,
   "id": "8976cc99",
   "metadata": {},
   "outputs": [],
   "source": [
    "positives = tf.data.Dataset.zip((anchor, positive, tf.data.Dataset.from_tensor_slices(tf.ones(len(anchor)))))\n",
    "negatives = tf.data.Dataset.zip((anchor, negative, tf.data.Dataset.from_tensor_slices(tf.zeros(len(anchor)))))\n",
    "data = positives.concatenate(negatives)"
   ]
  },
  {
   "cell_type": "code",
   "execution_count": null,
   "id": "34ac022b",
   "metadata": {},
   "outputs": [],
   "source": []
  },
  {
   "cell_type": "code",
   "execution_count": null,
   "id": "13136673",
   "metadata": {},
   "outputs": [],
   "source": []
  }
 ],
 "metadata": {
  "kernelspec": {
   "display_name": "Python 3 (ipykernel)",
   "language": "python",
   "name": "python3"
  },
  "language_info": {
   "codemirror_mode": {
    "name": "ipython",
    "version": 3
   },
   "file_extension": ".py",
   "mimetype": "text/x-python",
   "name": "python",
   "nbconvert_exporter": "python",
   "pygments_lexer": "ipython3",
   "version": "3.8.12"
  },
  "toc": {
   "base_numbering": 1,
   "nav_menu": {},
   "number_sections": true,
   "sideBar": true,
   "skip_h1_title": false,
   "title_cell": "Table of Contents",
   "title_sidebar": "Contents",
   "toc_cell": false,
   "toc_position": {},
   "toc_section_display": true,
   "toc_window_display": false
  }
 },
 "nbformat": 4,
 "nbformat_minor": 5
}
