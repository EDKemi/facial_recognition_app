{
 "cells": [
  {
   "cell_type": "code",
   "execution_count": 1,
   "id": "0bc5f49d",
   "metadata": {},
   "outputs": [],
   "source": [
    "# Import standard dependencies\n",
    "import cv2\n",
    "import os\n",
    "import random\n",
    "import numpy as np\n",
    "import matplotlib.pyplot as plt"
   ]
  },
  {
   "cell_type": "code",
   "execution_count": 2,
   "id": "204c24a5",
   "metadata": {},
   "outputs": [],
   "source": [
    "# This model will use tensorflows functional API which is better for hard core deep learning models as \n",
    "# opposed to TF's sequential API\n",
    "# The model we are building is called a siamese neural network, which allows us to do one shot classification.\n",
    "# https://www.cs.cmu.edu/~rsalakhu/papers/oneshot1.pdf\n",
    "\n",
    "# Import standard tensorflow dependencies - Funtional API\n",
    "from tensorflow.keras.models import Model\n",
    "from tensorflow.keras.layers import Layer, Conv2D, Dense, MaxPooling2D, Input, Flatten\n",
    "import tensorflow as tf"
   ]
  },
  {
   "cell_type": "code",
   "execution_count": 3,
   "id": "8d828a24",
   "metadata": {},
   "outputs": [],
   "source": [
    "# Only use if training o a GPU based machine. This notebook will be trained using google co lab\n",
    "# Avoid out of memory errors by setting GPU Memory Consumption Growth\n",
    "gpus = tf.config.experimental.list_physical_devices('GPU')\n",
    "for gpu in gpus:\n",
    "    tf.config.experimental.set_memory_growth(gpu, True)"
   ]
  },
  {
   "cell_type": "code",
   "execution_count": 4,
   "id": "e295fda5",
   "metadata": {},
   "outputs": [
    {
     "data": {
      "text/plain": [
       "[]"
      ]
     },
     "execution_count": 4,
     "metadata": {},
     "output_type": "execute_result"
    }
   ],
   "source": [
    "gpus"
   ]
  },
  {
   "cell_type": "code",
   "execution_count": 5,
   "id": "811b8264",
   "metadata": {},
   "outputs": [],
   "source": [
    "# Setup paths\n",
    "POS_PATH = os.path.join('../raw_data', 'positve')\n",
    "NEG_PATH = os.path.join('../raw_data', 'negative')\n",
    "ANC_PATH = os.path.join('../raw_data', 'anchor')"
   ]
  },
  {
   "cell_type": "code",
   "execution_count": null,
   "id": "ee98d9ee",
   "metadata": {},
   "outputs": [],
   "source": [
    "DATA_PATH = os.path.join('../raw_data', 'data')"
   ]
  },
  {
   "cell_type": "code",
   "execution_count": null,
   "id": "6b6cf5ab",
   "metadata": {
    "scrolled": true
   },
   "outputs": [],
   "source": [
    "# Make directories\n",
    "os.mkdir(POS_PATH)\n",
    "os.mkdir(NEG_PATH)\n",
    "os.mkdir(ANC_PATH)"
   ]
  },
  {
   "cell_type": "code",
   "execution_count": null,
   "id": "f54841e5",
   "metadata": {},
   "outputs": [],
   "source": [
    "os.mkdir(DATA_PATH)"
   ]
  },
  {
   "cell_type": "code",
   "execution_count": null,
   "id": "2ab550fb",
   "metadata": {},
   "outputs": [],
   "source": [
    "# Downloaded images as zipped tar file from http://vis-www.cs.umass.edu/lfw/\n",
    "# Command below unzips tar file and saves in data directory\n",
    "!tar -xf ../raw_data/lfw.tgz -C ../raw_data/data"
   ]
  },
  {
   "cell_type": "code",
   "execution_count": null,
   "id": "16c4dea4",
   "metadata": {},
   "outputs": [],
   "source": [
    "# Move LFW images to the following repository ../raw_data/negative\n",
    "\n",
    "for directory in os.listdir('../raw_data/data/lfw'):\n",
    "    for file in os.listdir(f'../raw_data/data/lfw/{directory}'):\n",
    "        EX_PATH = os.path.join('../raw_data/data/lfw', directory, file)\n",
    "        NEW_PATH = os.path.join(NEG_PATH, file)\n",
    "        os.replace(EX_PATH, NEW_PATH)"
   ]
  },
  {
   "cell_type": "code",
   "execution_count": 7,
   "id": "536cda98",
   "metadata": {},
   "outputs": [],
   "source": [
    "import uuid"
   ]
  },
  {
   "cell_type": "code",
   "execution_count": 10,
   "id": "ed63c94c",
   "metadata": {},
   "outputs": [
    {
     "data": {
      "text/plain": [
       "-1"
      ]
     },
     "execution_count": 10,
     "metadata": {},
     "output_type": "execute_result"
    }
   ],
   "source": [
    "# Establish connection to webcam\n",
    "\n",
    "cap = cv2.VideoCapture(0)\n",
    "while cap.isOpened():\n",
    "    ret, frame = cap.read()\n",
    "    \n",
    "    # cut down frame to 250x250px\n",
    "    frame = frame[270:270+250,650:650+250, :]\n",
    "    \n",
    "    # Collect anchors\n",
    "    if cv2.waitKey(1) & 0XFF == ord('a'):\n",
    "        imgname = os.path.join(ANC_PATH, '{}.jpg'.format(uuid.uuid1()))\n",
    "        cv2.imwrite(imgname, frame)\n",
    "        #cv2.waitKey(1)\n",
    "    \n",
    "    # Collect positives\n",
    "    if cv2.waitKey(1) & 0XFF == ord('p'):\n",
    "        imgname = os.path.join(POS_PATH, '{}.jpg'.format(uuid.uuid1()))\n",
    "        cv2.imwrite(imgname, frame)\n",
    "    \n",
    "    # show image back to screen\n",
    "    cv2.imshow('Image Collection', frame)\n",
    "    \n",
    "    if cv2.waitKey(1) & 0XFF == ord('q'):\n",
    "        break\n",
    "\n",
    "# Release the webcam\n",
    "cap.release()\n",
    "\n",
    "# Close the image show frame\n",
    "cv2.destroyAllWindows()\n",
    "cv2.waitKey(1)"
   ]
  },
  {
   "cell_type": "code",
   "execution_count": null,
   "id": "f6d3a14b",
   "metadata": {},
   "outputs": [],
   "source": []
  },
  {
   "cell_type": "code",
   "execution_count": null,
   "id": "ca2f0bc1",
   "metadata": {},
   "outputs": [],
   "source": []
  },
  {
   "cell_type": "code",
   "execution_count": null,
   "id": "965b2077",
   "metadata": {},
   "outputs": [],
   "source": [
    "frame.shape\n"
   ]
  },
  {
   "cell_type": "code",
   "execution_count": null,
   "id": "d7ebde06",
   "metadata": {},
   "outputs": [],
   "source": [
    "plt.imshow(frame[270:270+250,650:650+250, :])"
   ]
  },
  {
   "cell_type": "code",
   "execution_count": null,
   "id": "bb2e3604",
   "metadata": {},
   "outputs": [],
   "source": [
    "plt.imshow(frame[120:120+250,200:200+250, :])"
   ]
  },
  {
   "cell_type": "code",
   "execution_count": null,
   "id": "8a8cb253",
   "metadata": {},
   "outputs": [],
   "source": []
  }
 ],
 "metadata": {
  "kernelspec": {
   "display_name": "Python 3 (ipykernel)",
   "language": "python",
   "name": "python3"
  },
  "language_info": {
   "codemirror_mode": {
    "name": "ipython",
    "version": 3
   },
   "file_extension": ".py",
   "mimetype": "text/x-python",
   "name": "python",
   "nbconvert_exporter": "python",
   "pygments_lexer": "ipython3",
   "version": "3.8.12"
  },
  "toc": {
   "base_numbering": 1,
   "nav_menu": {},
   "number_sections": true,
   "sideBar": true,
   "skip_h1_title": false,
   "title_cell": "Table of Contents",
   "title_sidebar": "Contents",
   "toc_cell": false,
   "toc_position": {},
   "toc_section_display": true,
   "toc_window_display": false
  }
 },
 "nbformat": 4,
 "nbformat_minor": 5
}
